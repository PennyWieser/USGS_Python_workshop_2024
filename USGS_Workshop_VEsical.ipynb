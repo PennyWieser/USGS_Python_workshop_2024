{
 "cells": [
  {
   "cell_type": "markdown",
   "id": "592c6e1f-7c6e-4102-8770-42d8bb6427d4",
   "metadata": {},
   "source": [
    "# USGS workshop 2024\n",
    "- This notebook was written for the 2024 USGS workshop in Vancouver\n",
    "- It covers some very basic functionality of VESical. For far more examples, please see our YouTube channel (https://www.youtube.com/@vesical)\n",
    " and the documentation (https://vesical.readthedocs.io/en/latest/tutorials.html)\n",
    "- We will cover the following topics:\n",
    "1) calculating how much volatiles dissolve at specified conditions\n",
    "2) Calculating saturation pressures for a single composition\n",
    "3) Calculating saturation pressures for a spreadsheet of melt inclusions"
   ]
  },
  {
   "cell_type": "code",
   "execution_count": 11,
   "id": "ee3a5bf4-2e93-448f-b562-37023bedc821",
   "metadata": {},
   "outputs": [],
   "source": [
    "## Import Python things!\n",
    "\n",
    "# NumPy provides tools for doing numerical calculations\n",
    "import numpy as np\n",
    "\n",
    "# Matplotlib is for plotting\n",
    "import matplotlib.pyplot as plt\n",
    "\n",
    "# VESIcal provides the tools for performing volatile solubility calculations\n",
    "import VESIcal as v"
   ]
  },
  {
   "cell_type": "markdown",
   "id": "b551f327-eb9d-44e9-b4d6-760d71cdd65f",
   "metadata": {},
   "source": [
    "## 1.Calculating how many volatiles dissolve at a given pressure \n",
    "- We need to know:\n",
    "1) Pressure of the magma\n",
    "2) Temperature of the magma\n",
    "3) Major element composition of the magma\n",
    "4) Fluid composition in equilibrium with the magma (e.g., is it just H2O, just CO2, or is the system a mix of H2O and CO2)\n",
    "- We need to choose what solubility model we want to use!"
   ]
  },
  {
   "cell_type": "markdown",
   "id": "810d3727-5a5d-4bab-89bb-34cd812dd157",
   "metadata": {},
   "source": [
    "### 1a. Lets do a simple calculation and play with the parameters. "
   ]
  },
  {
   "cell_type": "code",
   "execution_count": 13,
   "id": "47dd3018-8d6b-4538-a31c-cff2390df37e",
   "metadata": {},
   "outputs": [
    {
     "data": {
      "text/plain": [
       "{'H2O_liq': 0.0, 'CO2_liq': 0.2509157444927196}"
      ]
     },
     "execution_count": 13,
     "metadata": {},
     "output_type": "execute_result"
    }
   ],
   "source": [
    "# Lets load the major elements for 1 sample - This is a melt inclusion from Kilauea\n",
    "kilauea = v.Sample({'SiO2':  48.42,\n",
    "                    'TiO2':   2.45,\n",
    "                    'Al2O3': 11.90,\n",
    "                    'Fe2O3':  0.00,\n",
    "                    'FeO':   11.33,\n",
    "                    'MgO':   12.51,\n",
    "                    'CaO':   10.02,\n",
    "                    'Na2O':   2.10,\n",
    "                    'K2O':    0.45,\n",
    "                    'P2O5':   0.30,\n",
    "                    })\n",
    "# Pressure in bars, T in celcius, X_fluid, 1 is all H2O, 0 is all CO2, 0.5 is 50mol% each.\n",
    "calc_MagmaSat = v.calculate_dissolved_volatiles(sample=kilauea, \n",
    "                                       pressure=3000, \n",
    "                                       temperature=1200, \n",
    "                                       X_fluid=0,\n",
    "                                      model='MagmaSat')\n",
    "calc_MagmaSat.result"
   ]
  },
  {
   "cell_type": "code",
   "execution_count": 16,
   "id": "670ffb24-081c-4252-bd5a-f41c6e151ba4",
   "metadata": {},
   "outputs": [
    {
     "name": "stdout",
     "output_type": "stream",
     "text": [
      "H2O=0.0\n"
     ]
    }
   ],
   "source": [
    "# Or we can just look at one of the volatiles\n",
    "print('H2O='+str(calc_MagmaSat.result['H2O_liq']))"
   ]
  },
  {
   "cell_type": "markdown",
   "id": "c42aafda-ca72-429c-adf2-9b2ea657675f",
   "metadata": {},
   "source": [
    "### 1b. How do we see what other models we can use?"
   ]
  },
  {
   "cell_type": "code",
   "execution_count": 17,
   "id": "fdc5c691-2632-467b-940f-25250321f2a0",
   "metadata": {},
   "outputs": [
    {
     "data": {
      "text/plain": [
       "['ShishkinaIdealMixing',\n",
       " 'Dixon',\n",
       " 'IaconoMarziano',\n",
       " 'Liu',\n",
       " 'ShishkinaCarbon',\n",
       " 'ShishkinaWater',\n",
       " 'DixonCarbon',\n",
       " 'DixonWater',\n",
       " 'IaconoMarzianoCarbon',\n",
       " 'IaconoMarzianoWater',\n",
       " 'AllisonCarbon',\n",
       " 'AllisonCarbon_sunset',\n",
       " 'AllisonCarbon_sfvf',\n",
       " 'AllisonCarbon_erebus',\n",
       " 'AllisonCarbon_vesuvius',\n",
       " 'AllisonCarbon_etna',\n",
       " 'AllisonCarbon_stromboli',\n",
       " 'MooreWater',\n",
       " 'LiuWater',\n",
       " 'LiuCarbon']"
      ]
     },
     "execution_count": 17,
     "metadata": {},
     "output_type": "execute_result"
    }
   ],
   "source": [
    "## Here is how we get the model names\n",
    "v.get_model_names()"
   ]
  },
  {
   "cell_type": "markdown",
   "id": "e13267e1-0682-44b6-8d50-f4e086f28307",
   "metadata": {},
   "source": [
    "### 1c. Excersize in Pairs - Lets compare CO2 and H2O solubility as a function of pressure.\n",
    "- Get into pairs\n",
    "- Person on the left - How much CO2 dissolves in the Hawaiian magma at 3 kbar pressure? Lets use 4 basaltic models to test (Dixon, IaconoMarziano, ShishkinaIdealMixing, MagmaSat)\n",
    "- 2nd person, job is to work out how much H2O dissolves at 3 kbar. Compare results. How different are the results as a %? What does this mean about H2O vs. CO2 solubility in terms of how well we know things?\n",
    "- What do you notice about the speeds of the different models?"
   ]
  },
  {
   "cell_type": "markdown",
   "id": "9cdd7719-0fde-4dc5-a1c8-fb6adcd14fc7",
   "metadata": {},
   "source": [
    "### Scroll down for answers - But please try on your own first!!\n",
    "-\n",
    "-\n",
    "-\n",
    "-\n",
    "-\n",
    "-\n",
    "-\n",
    "-\n",
    "-\n",
    "-\n",
    "-\n",
    "-\n",
    "-\n",
    "-\n",
    "-\n",
    "-\n",
    "-\n",
    "-\n",
    "-\n",
    "-"
   ]
  },
  {
   "cell_type": "markdown",
   "id": "9d51ae75-06b0-465a-93f4-b819fe798e5e",
   "metadata": {},
   "source": [
    "### Now add the other models here \n",
    "- of course, you could do this in a loop, but when you are getting started, its totally okay to copy and paste code and just change the parameter you want. Once you get more comfortable with python you can start learning about looping!"
   ]
  },
  {
   "cell_type": "code",
   "execution_count": 19,
   "id": "e509d120-6402-4adc-ab4b-5afb6cfd7fc5",
   "metadata": {},
   "outputs": [
    {
     "name": "stdout",
     "output_type": "stream",
     "text": [
      "MagmaSat CO2 wt% =\n",
      "0.2509157444927196\n",
      "IaconoMarziano CO2 wt% = \n",
      "0.1876342635470089\n",
      "Shishkina CO2 wt% = \n",
      "0.2786149256184035\n",
      "Dixon CO2 wt% = \n",
      "0.1950876480624819\n"
     ]
    },
    {
     "name": "stderr",
     "output_type": "stream",
     "text": [
      "/opt/conda/lib/python3.9/site-packages/VESIcal/calculate_classes.py:60: RuntimeWarning: pressure exceeds 1000 bar, which Iacono-Marziano et al. (2012) suggest as an upper calibration limit of the Dixon (1997, Pi-SiO2 simpl.) Model, as well as the upper calibration limit of 2000 bar suggested by Lesne et al. (2011), \n",
      "  w.warn(self.calib_check, RuntimeWarning)\n"
     ]
    }
   ],
   "source": [
    "# Use variables to store our choices of calculation parameter.\n",
    "P = 3000 # bars\n",
    "T = 1200 # degrees C\n",
    "fluid_composition = 0 # Mole fraction of H2O\n",
    "\n",
    "# Create a calculation for dissolved volatiles, using the sample we defined\n",
    "# and the parameters above.\n",
    "calc_MagmaSat = v.calculate_dissolved_volatiles(sample=kilauea, \n",
    "                                       pressure=P, \n",
    "                                       temperature=T, \n",
    "                                       X_fluid=fluid_composition,\n",
    "                                      model='MagmaSat')\n",
    "\n",
    "# Print out the result of the calculation,\n",
    "print('MagmaSat CO2 wt% =')\n",
    "print(calc_MagmaSat.result['CO2_liq'])\n",
    "\n",
    "calc_IM = v.calculate_dissolved_volatiles(sample=kilauea, \n",
    "                                       pressure=P, \n",
    "                                       temperature=T, \n",
    "                                       X_fluid=fluid_composition,\n",
    "                                      model='IaconoMarziano')\n",
    "\n",
    "# Print out the result of the calculation,\n",
    "print('IaconoMarziano CO2 wt% = ')\n",
    "print(calc_IM.result['CO2_liq'])\n",
    "\n",
    "calc_Shish = v.calculate_dissolved_volatiles(sample=kilauea, \n",
    "                                       pressure=P, \n",
    "                                       temperature=T, \n",
    "                                       X_fluid=fluid_composition,\n",
    "                                      model='ShishkinaIdealMixing')\n",
    "\n",
    "# Print out the result of the calculation,\n",
    "print('Shishkina CO2 wt% = ')\n",
    "print(calc_Shish.result['CO2_liq'])\n",
    "\n",
    "calc_Dixon = v.calculate_dissolved_volatiles(sample=kilauea, \n",
    "                                       pressure=P, \n",
    "                                       temperature=T, \n",
    "                                       X_fluid=fluid_composition,\n",
    "                                      model='Dixon')\n",
    "\n",
    "# Print out the result of the calculation,\n",
    "print('Dixon CO2 wt% = ')\n",
    "print(calc_Dixon.result['CO2_liq'])"
   ]
  },
  {
   "cell_type": "markdown",
   "id": "b1e3b875-030d-4e63-bd6e-7f87cc2b6fc2",
   "metadata": {},
   "source": [
    "## Lets do the same for H2O\n",
    "- Here, I do this in a loop\n",
    "- You can actually paste non looped code into GPT and ask it to help you write a loop - this can be a great learning tool to work out how to write loops, and it can help explain it to you too!"
   ]
  },
  {
   "cell_type": "code",
   "execution_count": 20,
   "id": "0e4ba21a-7bf0-4fc0-a277-3a5138cb8722",
   "metadata": {},
   "outputs": [
    {
     "name": "stdout",
     "output_type": "stream",
     "text": [
      "MagmaSat H2O wt%\n",
      "5.721804718517638\n",
      "IaconoMarziano H2O wt%\n",
      "10.71229940498287\n",
      "Dixon H2O wt%\n",
      "5.980944061060856\n",
      "ShishkinaIdealMixing H2O wt%\n",
      "6.286611901206997\n"
     ]
    },
    {
     "name": "stderr",
     "output_type": "stream",
     "text": [
      "/opt/conda/lib/python3.9/site-packages/VESIcal/calculate_classes.py:60: RuntimeWarning: pressure exceeds 1000 bar, which Iacono-Marziano et al. (2012) suggest as an upper calibration limit of the Dixon (1997, Pi-SiO2 simpl.) Model, as well as the upper calibration limit of 2000 bar suggested by Lesne et al. (2011), \n",
      "  w.warn(self.calib_check, RuntimeWarning)\n"
     ]
    }
   ],
   "source": [
    "# Initialize a dictionary to hold the calculation results\n",
    "calc_results = {}\n",
    "\n",
    "# Define the models to loop through\n",
    "models = ['MagmaSat', 'IaconoMarziano', 'Dixon', 'ShishkinaIdealMixing']\n",
    "\n",
    "# Loop through each model\n",
    "for model in models:\n",
    "    # Calculate dissolved volatiles using the current model\n",
    "    calc_result = v.calculate_dissolved_volatiles(sample=kilauea, \n",
    "                                                  pressure=P, \n",
    "                                                  temperature=T, \n",
    "                                                  X_fluid=1,\n",
    "                                                  model=model)\n",
    "    \n",
    "    # Save the result in the dictionary\n",
    "    calc_results[model] = calc_result\n",
    "\n",
    "    # Print out the result of the calculation\n",
    "    print(f'{model} H2O wt%')\n",
    "    print(calc_result.result['H2O_liq'])"
   ]
  },
  {
   "cell_type": "code",
   "execution_count": 26,
   "id": "452c8aef-403b-4709-9d96-e7d86e31c490",
   "metadata": {},
   "outputs": [
    {
     "data": {
      "text/plain": [
       "{'H2O_liq': 5.721804718517638, 'CO2_liq': 0.0}"
      ]
     },
     "execution_count": 26,
     "metadata": {},
     "output_type": "execute_result"
    }
   ],
   "source": [
    "# How do you get data out of the dictionary? like this!\n",
    "calc_MagmaSat = calc_results['MagmaSat'].result\n",
    "calc_MagmaSat"
   ]
  },
  {
   "cell_type": "markdown",
   "id": "f4e46e9e-1806-4608-8ea7-43d7f1dbf640",
   "metadata": {},
   "source": [
    "## 2 - Calculating saturation pressures\n",
    "- Now lets do the calculation the other way, now you know a volatile content, estimate a temperature and want to calculate pressure (e.g., melt inclusion work!)"
   ]
  },
  {
   "cell_type": "code",
   "execution_count": null,
   "id": "da7461df-f1b6-4696-92ee-65e69c19ed06",
   "metadata": {},
   "outputs": [],
   "source": [
    "\n",
    "fuego = v.Sample({'SiO2':  49.67,\n",
    "                  'TiO2':   1.17,\n",
    "                  'Al2O3': 16.50,\n",
    "                  'Fe2O3':  1.65,\n",
    "                  'FeO':    8.43,\n",
    "                  'MnO':    0.19,\n",
    "                  'MgO':    4.38,\n",
    "                  'CaO':    7.90,\n",
    "                  'Na2O':   3.37,\n",
    "                  'K2O':    0.79,\n",
    "                  'P2O5':   0.22,\n",
    "                  'CO2':    0.0,\n",
    "                  'H2O':    4.00})\n"
   ]
  },
  {
   "cell_type": "markdown",
   "id": "e66f9baa-c517-4fe2-9592-284494227601",
   "metadata": {},
   "source": [
    "### 2a - Calculate a H2O (only) saturation pressure\n",
    "Let's calculate the saturation pressure! This might reflect a circumstance where we have identified the H$_2$O content using plagioclase hygrometry, but we don't have an estimate for the CO$_2$ content:"
   ]
  },
  {
   "cell_type": "code",
   "execution_count": 1,
   "id": "afde57b5-e4b4-4017-9924-2a1dab14288b",
   "metadata": {},
   "outputs": [
    {
     "ename": "NameError",
     "evalue": "name 'v' is not defined",
     "output_type": "error",
     "traceback": [
      "\u001b[0;31m---------------------------------------------------------------------------\u001b[0m",
      "\u001b[0;31mNameError\u001b[0m                                 Traceback (most recent call last)",
      "Cell \u001b[0;32mIn [1], line 1\u001b[0m\n\u001b[0;32m----> 1\u001b[0m SatP_noCO2 \u001b[38;5;241m=\u001b[39m \u001b[43mv\u001b[49m\u001b[38;5;241m.\u001b[39mcalculate_saturation_pressure(sample\u001b[38;5;241m=\u001b[39mfuego, temperature\u001b[38;5;241m=\u001b[39m\u001b[38;5;241m1000\u001b[39m)\n\u001b[1;32m      2\u001b[0m SatP_noCO2\u001b[38;5;241m.\u001b[39mresult\n",
      "\u001b[0;31mNameError\u001b[0m: name 'v' is not defined"
     ]
    }
   ],
   "source": [
    "SatP_noCO2 = v.calculate_saturation_pressure(sample=fuego, temperature=1000)\n",
    "SatP_noCO2.result"
   ]
  },
  {
   "cell_type": "markdown",
   "id": "53301d9b-32a9-4dfc-b87b-4f4f0ada1512",
   "metadata": {},
   "source": [
    "### 2c. Now try adding different amounts of CO2! Have a look at 1000 ppm vs. 5000 ppm CO2"
   ]
  },
  {
   "cell_type": "code",
   "execution_count": null,
   "id": "84c9a08d-caee-4a8e-acc4-de54d7a2a488",
   "metadata": {},
   "outputs": [],
   "source": [
    "# Lets edit the Fuego composition here - remember, VESical takes wt%\n",
    "fuego.change_composition({'CO2': 5000/1e4})\n",
    "# This will allow us to print to check it worked\n",
    "fuego.get_composition('CO2')"
   ]
  },
  {
   "cell_type": "code",
   "execution_count": 3,
   "id": "1bbc184d-8149-4f43-8ba6-b5f4a85f7dde",
   "metadata": {},
   "outputs": [
    {
     "ename": "NameError",
     "evalue": "name 'v' is not defined",
     "output_type": "error",
     "traceback": [
      "\u001b[0;31m---------------------------------------------------------------------------\u001b[0m",
      "\u001b[0;31mNameError\u001b[0m                                 Traceback (most recent call last)",
      "Cell \u001b[0;32mIn [3], line 1\u001b[0m\n\u001b[0;32m----> 1\u001b[0m SatP_CO2_5000 \u001b[38;5;241m=\u001b[39m \u001b[43mv\u001b[49m\u001b[38;5;241m.\u001b[39mcalculate_saturation_pressure(sample\u001b[38;5;241m=\u001b[39mfuego, temperature\u001b[38;5;241m=\u001b[39m\u001b[38;5;241m1000\u001b[39m)\n\u001b[1;32m      2\u001b[0m SatP_CO2_5000\u001b[38;5;241m.\u001b[39mresult\n",
      "\u001b[0;31mNameError\u001b[0m: name 'v' is not defined"
     ]
    }
   ],
   "source": [
    "SatP_CO2_5000 = v.calculate_saturation_pressure(sample=fuego, temperature=1000)\n",
    "SatP_CO2_5000.result"
   ]
  },
  {
   "cell_type": "markdown",
   "id": "7b4ee67c-7100-4760-a145-28c09a084f8c",
   "metadata": {},
   "source": [
    "#### Try writing some code to do the same, but for 1000 ppm"
   ]
  },
  {
   "cell_type": "code",
   "execution_count": 5,
   "id": "422de5c1-a411-4ff0-8a21-3e45792934f4",
   "metadata": {},
   "outputs": [],
   "source": [
    "# Copy the code from the two cells above, and edit the CO2 concentration"
   ]
  },
  {
   "cell_type": "markdown",
   "id": "ef1573a4-3835-42c8-a92a-89ee9d296509",
   "metadata": {},
   "source": [
    "#### why does this matter? What are we learning all the time about CO2 in magmas?"
   ]
  },
  {
   "cell_type": "markdown",
   "id": "2fefb3c5-6dd3-4d9e-915d-c5fd07f83e01",
   "metadata": {},
   "source": [
    "## 3 - Automating saturation pressures\n",
    "- In reality, no one wants to type out their melt inclusion compositions - this functionality is useful for playing around to learn about volatile solubility, but in reality, you will want to load in a spreadsheet of melt inclusion compositions"
   ]
  },
  {
   "cell_type": "code",
   "execution_count": 6,
   "id": "75fef289-f32f-4252-b9aa-77263626f16d",
   "metadata": {},
   "outputs": [
    {
     "ename": "NameError",
     "evalue": "name 'v' is not defined",
     "output_type": "error",
     "traceback": [
      "\u001b[0;31m---------------------------------------------------------------------------\u001b[0m",
      "\u001b[0;31mNameError\u001b[0m                                 Traceback (most recent call last)",
      "Cell \u001b[0;32mIn [6], line 2\u001b[0m\n\u001b[1;32m      1\u001b[0m \u001b[38;5;66;03m# Load in melt inclusion data from Cassidy (2015) for Soufriere Hills\u001b[39;00m\n\u001b[0;32m----> 2\u001b[0m myfile\u001b[38;5;241m=\u001b[39m \u001b[43mv\u001b[49m\u001b[38;5;241m.\u001b[39mBatchFile(\u001b[38;5;124m'\u001b[39m\u001b[38;5;124mCassidy2015_AndesiteMI_YouTubeDemo.xlsx\u001b[39m\u001b[38;5;124m'\u001b[39m,\n\u001b[1;32m      3\u001b[0m                     sheet_name\u001b[38;5;241m=\u001b[39m\u001b[38;5;124m'\u001b[39m\u001b[38;5;124mSheet1\u001b[39m\u001b[38;5;124m'\u001b[39m,  input_type\u001b[38;5;241m=\u001b[39m\u001b[38;5;124m'\u001b[39m\u001b[38;5;124mwtpercent\u001b[39m\u001b[38;5;124m'\u001b[39m)\n",
      "\u001b[0;31mNameError\u001b[0m: name 'v' is not defined"
     ]
    }
   ],
   "source": [
    "# Load in melt inclusion data from Cassidy (2015) for Soufriere Hills\n",
    "myfile= v.BatchFile('Cassidy2015_AndesiteMI_YouTubeDemo.xlsx',\n",
    "                    sheet_name='Sheet1',  input_type='wtpercent')"
   ]
  },
  {
   "cell_type": "code",
   "execution_count": null,
   "id": "f102b09c-2e4c-4e99-ae65-4fe09c2197e5",
   "metadata": {},
   "outputs": [],
   "source": [
    "# Allows you to inspect data, and check VESIcal has read column headings correctly (e.g., non zero values for oxides)\n",
    "myfile.get_data()"
   ]
  },
  {
   "cell_type": "markdown",
   "id": "8a41d895-3e8f-4877-930c-c4975266b4e1",
   "metadata": {},
   "source": [
    "### 3a - Lets use Magmasat to calculate pressures"
   ]
  },
  {
   "cell_type": "code",
   "execution_count": 7,
   "id": "3213a692-2e70-4643-ab77-538cf74b646b",
   "metadata": {},
   "outputs": [
    {
     "ename": "NameError",
     "evalue": "name 'myfile' is not defined",
     "output_type": "error",
     "traceback": [
      "\u001b[0;31m---------------------------------------------------------------------------\u001b[0m",
      "\u001b[0;31mNameError\u001b[0m                                 Traceback (most recent call last)",
      "Cell \u001b[0;32mIn [7], line 1\u001b[0m\n\u001b[0;32m----> 1\u001b[0m Sat_P_MagmaSat\u001b[38;5;241m=\u001b[39m\u001b[43mmyfile\u001b[49m\u001b[38;5;241m.\u001b[39mcalculate_saturation_pressure(temperature\u001b[38;5;241m=\u001b[39m\u001b[38;5;124m\"\u001b[39m\u001b[38;5;124mTemp\u001b[39m\u001b[38;5;124m\"\u001b[39m, model\u001b[38;5;241m=\u001b[39m\u001b[38;5;124m'\u001b[39m\u001b[38;5;124mMagmaSat\u001b[39m\u001b[38;5;124m'\u001b[39m)\n\u001b[1;32m      2\u001b[0m Sat_P_MagmaSat\n",
      "\u001b[0;31mNameError\u001b[0m: name 'myfile' is not defined"
     ]
    }
   ],
   "source": [
    "Sat_P_MagmaSat=myfile.calculate_saturation_pressure(temperature=\"Temp\", model='MagmaSat')\n",
    "Sat_P_MagmaSat"
   ]
  },
  {
   "cell_type": "markdown",
   "id": "0d9c32ac-fc4d-47bf-9319-f625f09e2791",
   "metadata": {},
   "source": [
    "### 3b - Try another solubility model! Copy the code above, and change model='' "
   ]
  },
  {
   "cell_type": "code",
   "execution_count": 8,
   "id": "43e52fd9-38d6-4fb5-933a-fe04b5c041ac",
   "metadata": {},
   "outputs": [],
   "source": [
    "# type code here\n",
    "\n"
   ]
  }
 ],
 "metadata": {
  "kernelspec": {
   "display_name": "Python 3 (ipykernel)",
   "language": "python",
   "name": "python3"
  },
  "language_info": {
   "codemirror_mode": {
    "name": "ipython",
    "version": 3
   },
   "file_extension": ".py",
   "mimetype": "text/x-python",
   "name": "python",
   "nbconvert_exporter": "python",
   "pygments_lexer": "ipython3",
   "version": "3.9.13"
  }
 },
 "nbformat": 4,
 "nbformat_minor": 5
}
