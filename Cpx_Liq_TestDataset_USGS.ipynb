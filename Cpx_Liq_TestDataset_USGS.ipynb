{
 "cells": [
  {
   "cell_type": "markdown",
   "metadata": {},
   "source": [
    "## Testing and comparing thermobarometers on an experimental dataset\n",
    "- This notebook was developed for the 2024 USGS Petrology workshop\n",
    "- It shows how to perform Cpx-only, Cpx-Liq and Liq-only based thermobarometry calculations on new experimental test data compiled in Wieser et al. (2023) - https://doi.org/10.31223/X59655\n",
    "- Please try running up to cell 3 before the tutorial!"
   ]
  },
  {
   "cell_type": "code",
   "execution_count": null,
   "metadata": {},
   "outputs": [],
   "source": [
    "# First, you need to install Thermobar - You only need to run this once per computer - once you've run it, add a # infront!\n",
    "#!pip install Thermobar"
   ]
  },
  {
   "cell_type": "code",
   "execution_count": null,
   "metadata": {},
   "outputs": [],
   "source": [
    "# Now import it and check version\n",
    "import Thermobar as pt\n",
    "print(pt.__version__)\n",
    "# lets import other python things too\n",
    "import numpy as np\n",
    "# Pandas is like spreadsheets in python\n",
    "import pandas as pd\n",
    "# Lets get it to display all pandas columns\n",
    "pd.set_option('display.max_columns', None)\n",
    "# This is for plotting\n",
    "import matplotlib.pyplot as plt"
   ]
  },
  {
   "cell_type": "code",
   "execution_count": null,
   "metadata": {},
   "outputs": [],
   "source": [
    "# Lets load the data - You need to make sure the excel spreadsheet is in the same folder as the notebook. \n",
    "out=pt.import_excel('ArcPL_Filtered_Dataset.xlsx', sheet_name='Sheet1')\n",
    "# This loads all columns you have inputted\n",
    "all_input=out['my_input']\n",
    "# This pulls out just Cpxs - E.g. columns with _Cpx and _Liq after\n",
    "Cpx=out['Cpxs']\n",
    "Liq=out['Liqs']"
   ]
  },
  {
   "cell_type": "code",
   "execution_count": null,
   "metadata": {},
   "outputs": [],
   "source": [
    "# You should also check that things have loaded in how you expect - e.g. looking for columns full of zeros!\n",
    "Cpx.head()"
   ]
  },
  {
   "cell_type": "code",
   "execution_count": null,
   "metadata": {},
   "outputs": [],
   "source": [
    "# Lets check the liquids too\n",
    "Liq.head()"
   ]
  },
  {
   "cell_type": "markdown",
   "metadata": {},
   "source": [
    "## Lets calculate some liquid-only temperatures first"
   ]
  },
  {
   "cell_type": "code",
   "execution_count": null,
   "metadata": {},
   "outputs": [],
   "source": [
    "# We find that this adapted ol-liq thermometer that uses calculated DMg values from Beattie is the best all around performer!\n",
    "# Here, we are using a pressure of 5 kbar\n",
    "Temp_Eq22_Put=pt.calculate_liq_only_temp(liq_comps=Liq, equationT='T_Put2008_eq22_BeattDMg', P=5)\n",
    "Temp_Eq22_Put"
   ]
  },
  {
   "cell_type": "code",
   "execution_count": null,
   "metadata": {},
   "outputs": [],
   "source": [
    "# If you love excel, you can copy at this point to your clipboard!\n",
    "# This wont work in binder\n",
    "Temp_Eq22_Put.to_clipboard(excel=True, index=False)"
   ]
  },
  {
   "cell_type": "code",
   "execution_count": null,
   "metadata": {},
   "outputs": [],
   "source": [
    "# Or simply append onto your dataframe, and save\n",
    "# Adding the new column\n",
    "all_input['Temp_Puteq22']=Temp_Eq22_Put\n",
    "# Saving to excel\n",
    "all_input.to_excel('USGS_thermobarometry_output.xlsx')"
   ]
  },
  {
   "cell_type": "code",
   "execution_count": null,
   "metadata": {},
   "outputs": [],
   "source": [
    "# Try with your fav equation\n",
    "help(pt.calculate_liq_only_temp)"
   ]
  },
  {
   "cell_type": "markdown",
   "metadata": {},
   "source": [
    "## Perform calculations  by iterating a thermometer and a barometer\n",
    "- How do you know what options are in Thermobar? You can look at the help function! It tells you what all the different equations are called"
   ]
  },
  {
   "cell_type": "markdown",
   "metadata": {},
   "source": [
    "## Calc 1 - Using Neave and Putirka (2017) and Putirka (2008) eq33"
   ]
  },
  {
   "cell_type": "code",
   "execution_count": null,
   "metadata": {},
   "outputs": [],
   "source": [
    "# This calculation uses pre-matched Cpx and Liq pairs from these experiments\n",
    "Neave17=pt.calculate_cpx_liq_press_temp(cpx_comps=Cpx, liq_comps=Liq, equationP='P_Neave2017',\n",
    "                                   equationT='T_Put2008_eq33')\n",
    "Neave17.head()"
   ]
  },
  {
   "cell_type": "markdown",
   "metadata": {},
   "source": [
    "### Lets compare this to experimental pressures!\n",
    "- you can check out columns you loaded in using .head()"
   ]
  },
  {
   "cell_type": "code",
   "execution_count": null,
   "metadata": {},
   "outputs": [],
   "source": [
    "# Remember, all_input was the thing returned that had all your entered columns - 'P_kbar_x' gives the experimental pressure\n",
    "all_input.head()"
   ]
  },
  {
   "cell_type": "code",
   "execution_count": null,
   "metadata": {},
   "outputs": [],
   "source": [
    "# This line sets up a plot with 1 subplot, that is 6 units by 5 units in size. \n",
    "fig, (ax1) = plt.subplots(1, 1, figsize=(6,5))\n",
    "# This plots experimental pressure vs. Calculated pressure\n",
    "ax1.plot(all_input['P_kbar_x'], Neave17['P_kbar_calc'], '.k')\n",
    "# Now add a 1:1 line to compare!\n",
    "ax1.plot([0, 15], [0, 15], '-r')\n",
    "# Here is how you add a Y label - Try adding an X\n",
    "ax1.set_ylabel('Calc P kbar (NP17-Eq33)')\n",
    "# Add your own x label here! - X is experimental pressure\n",
    "\n"
   ]
  },
  {
   "cell_type": "markdown",
   "metadata": {},
   "source": [
    "### Now do the same for Temperature "
   ]
  },
  {
   "cell_type": "code",
   "execution_count": null,
   "metadata": {},
   "outputs": [],
   "source": [
    "# Try typing code here to make a plot! You need to replace P_kbar with T_K at every point\n",
    "\n"
   ]
  },
  {
   "cell_type": "markdown",
   "metadata": {},
   "source": [
    "### Scroll down for answers (only after you have tried!)\n",
    "-\n",
    "-\n",
    "-\n",
    "-\n",
    "-\n",
    "-\n",
    "-\n",
    "-\n",
    "-\n",
    "-\n",
    "-\n",
    "-\n"
   ]
  },
  {
   "cell_type": "code",
   "execution_count": null,
   "metadata": {},
   "outputs": [],
   "source": [
    "fig, (ax1, ax2) = plt.subplots(1, 2, figsize=(10,5))\n",
    "ax1.plot(all_input['P_kbar_x'], Neave17['P_kbar_calc'], '.k')\n",
    "ax1.plot([0, 17], [0, 17], '-r')\n",
    "ax1.set_xlabel('Experiment P (kbar)')\n",
    "ax1.set_ylabel('Calc P (kbar)')\n",
    "\n",
    "ax2.plot(all_input['T_K_x']-273.15, Neave17['T_K_calc']-273.15, '.k')\n",
    "ax2.plot([800, 1300], [800, 1300], '-r')\n",
    "ax2.set_xlabel('Experiment T (°C)')\n",
    "ax2.set_ylabel('Calc T (°C)')\n"
   ]
  },
  {
   "cell_type": "markdown",
   "metadata": {},
   "source": [
    "### What can we say about the relative success of thermobarometers vs. barometers? What does this maybe mean thermodynamically?"
   ]
  },
  {
   "cell_type": "code",
   "execution_count": null,
   "metadata": {},
   "outputs": [],
   "source": [
    "## What if we want to calculate some statistics? Here, we can do a linear regression between exp pressure vs. calc pressure\n",
    "pt.calculate_R2(all_input['P_kbar_x'], Neave17['P_kbar_calc'], xy=False)"
   ]
  },
  {
   "cell_type": "markdown",
   "metadata": {},
   "source": [
    "### Now do the same calculation for temperature!"
   ]
  },
  {
   "cell_type": "code",
   "execution_count": null,
   "metadata": {},
   "outputs": [],
   "source": [
    "# write some code here!\n"
   ]
  },
  {
   "cell_type": "markdown",
   "metadata": {},
   "source": [
    "### What does a RMSE of 3.92 kbar mean in terms of depth in the crust (choose your favourite crustal density value!)\n",
    "\n"
   ]
  },
  {
   "cell_type": "code",
   "execution_count": null,
   "metadata": {},
   "outputs": [],
   "source": [
    "# type your working here! Remember, P = rho * g *H\n"
   ]
  },
  {
   "cell_type": "markdown",
   "metadata": {},
   "source": [
    "### Scroll down for an inbuilt function to do this (once you've had a go!)\n",
    "-\n",
    "-\n",
    "-\n",
    "-\n",
    "-\n",
    "-\n",
    "-\n",
    "-\n",
    "-\n",
    "-\n",
    "-\n",
    "-\n"
   ]
  },
  {
   "cell_type": "code",
   "execution_count": null,
   "metadata": {},
   "outputs": [],
   "source": [
    "# Lets use a fixed crustal density profile\n",
    "Depth1=pt.convert_pressure_to_depth(P_kbar=3.92, crust_dens_kgm3=2700)\n",
    "Depth1"
   ]
  },
  {
   "cell_type": "code",
   "execution_count": null,
   "metadata": {},
   "outputs": [],
   "source": [
    "help(pt.convert_pressure_to_depth)"
   ]
  },
  {
   "cell_type": "code",
   "execution_count": null,
   "metadata": {},
   "outputs": [],
   "source": [
    "# Lots of different options for profiles with the pressures we calculated with Neave\n",
    "Depth_P=pt.convert_pressure_to_depth(P_kbar=Neave17['P_kbar_calc'], \n",
    "                                        crust_dens_kgm3='prezzi')\n",
    "Depth_P"
   ]
  },
  {
   "cell_type": "markdown",
   "metadata": {},
   "source": [
    "## Calc 2 - Now try calculations using Putirka (2003) for both T and P. Read the documentation above to find out what these are called. Or go here \n",
    "- https://github.com/PennyWieser/Thermobar/blob/main/docs/img/All_Phases_Docs_Merged.pdf"
   ]
  },
  {
   "cell_type": "code",
   "execution_count": null,
   "metadata": {},
   "outputs": [],
   "source": [
    "# how do the Ts compare to the ones above with eq33?\n"
   ]
  },
  {
   "cell_type": "markdown",
   "metadata": {},
   "source": [
    "## Calc 3 - But how do we know if the Cpx-Liq pairs are actually in equilibrium?\n",
    "- You can ask Thermobar to perform the common equilibrium tests for you! "
   ]
  },
  {
   "cell_type": "code",
   "execution_count": null,
   "metadata": {},
   "outputs": [],
   "source": [
    "Neave17_Eqtest=pt.calculate_cpx_liq_press_temp(cpx_comps=Cpx, liq_comps=Liq, equationP='P_Neave2017',\n",
    "                                   equationT='T_Put2008_eq33', eq_tests=True)\n",
    "Neave17_Eqtest.head()"
   ]
  },
  {
   "cell_type": "markdown",
   "metadata": {},
   "source": [
    "### How would we filter based on Kd within 0.03?"
   ]
  },
  {
   "cell_type": "code",
   "execution_count": null,
   "metadata": {},
   "outputs": [],
   "source": [
    "# Firts lets look at the distribution of equilibrium tests\n",
    "plt.hist(Neave17_Eqtest['Delta_Kd_Put2008'])\n",
    "plt.xlabel('Kd Meas - Kd Putirka eq35')\n",
    "plt.ylabel('# of analyses')"
   ]
  },
  {
   "cell_type": "code",
   "execution_count": null,
   "metadata": {},
   "outputs": [],
   "source": [
    "# This makes a filtered dataframe, taking only the rows where Delta Kd is < or equal to 0.03\n",
    "Filtered_KD=Neave17_Eqtest.loc[Neave17_Eqtest['Delta_Kd_Put2008']<=0.03]\n",
    "Filtered_KD.head()"
   ]
  },
  {
   "cell_type": "markdown",
   "metadata": {},
   "source": [
    "## Calc 4 - how do we compare lots of equations?\n",
    "- Sure, you could type out every combination of equation, but thats sort of tedious! We have included the most common combinations used in the literature!\n",
    "- It doesnt return equilibrium tests, because these have terms for P and T, so depends what equations you choose! "
   ]
  },
  {
   "cell_type": "markdown",
   "metadata": {},
   "source": [
    "### Some of these are machine learning equations - we need to download these models separatly as they are rather big and PyPI gets annoyed at us (its a free service!)\n"
   ]
  },
  {
   "cell_type": "code",
   "execution_count": null,
   "metadata": {},
   "outputs": [],
   "source": [
    "# Check your version of sklearn - you may need to upgrade if you are on a version earlier than 1.3\n",
    "import sklearn as s\n",
    "s.__version__"
   ]
  },
  {
   "cell_type": "code",
   "execution_count": null,
   "metadata": {},
   "outputs": [],
   "source": [
    "# Now install the machine learning files\n",
    "!pip install \"https://github.com/PennyWieser/Thermobar_onnx/archive/refs/tags/v.0.0.4.zip\""
   ]
  },
  {
   "cell_type": "code",
   "execution_count": null,
   "metadata": {},
   "outputs": [],
   "source": [
    "All_Exps=pt.calculate_cpx_liq_press_all_eqs(cpx_comps=Cpx, liq_comps=Liq)\n",
    "All_Exps.head()"
   ]
  },
  {
   "cell_type": "markdown",
   "metadata": {},
   "source": [
    "### Choose your 3 favourite equations for pressure - and plot them against experimental pressure here\n"
   ]
  },
  {
   "cell_type": "code",
   "execution_count": null,
   "metadata": {},
   "outputs": [],
   "source": [
    "fig, (ax1, ax2, ax3) = plt.subplots(1, 3, figsize=(12,4))\n",
    "# Add the rest of the code here - you can paste from above"
   ]
  },
  {
   "cell_type": "markdown",
   "metadata": {},
   "source": [
    "## Calc 5 - What can we do in python that is hard elsewhere?\n",
    "- We can plot our own data amongst the calibration datasets of different models! "
   ]
  },
  {
   "cell_type": "code",
   "execution_count": null,
   "metadata": {},
   "outputs": [],
   "source": [
    "Cali_Dataset_Brugman=pt.return_cali_dataset(model=\"Brugman2019\")\n",
    "Cali_Dataset_Neave=pt.return_cali_dataset(model=\"Neave2017\")\n",
    "Cali_Dataset_Wang=pt.return_cali_dataset(model=\"Wang2021\")\n",
    "Cali_Dataset_Masotta=pt.return_cali_dataset(model=\"Masotta2013\")\n",
    "Cali_Dataset_Putirka=pt.return_cali_dataset(model=\"Putirka2008\")"
   ]
  },
  {
   "cell_type": "code",
   "execution_count": null,
   "metadata": {},
   "outputs": [],
   "source": [
    "Cali_Dataset_Brugman"
   ]
  },
  {
   "cell_type": "code",
   "execution_count": null,
   "metadata": {},
   "outputs": [],
   "source": [
    "# If we want to draw a TAS diagram, we can import from here\n",
    "!pip install git+https://bitbucket.org/jsteven5/tasplot.git\n"
   ]
  },
  {
   "cell_type": "markdown",
   "metadata": {},
   "source": [
    "## We need to import TAS plot"
   ]
  },
  {
   "cell_type": "code",
   "execution_count": null,
   "metadata": {},
   "outputs": [],
   "source": [
    "import tasplot"
   ]
  },
  {
   "cell_type": "code",
   "execution_count": null,
   "metadata": {},
   "outputs": [],
   "source": [
    "#fig, (ax1, ax2) = plt.subplots(2, 1, figsize=(10,10), sharey=True)\n",
    "figure_mosaic=\"\"\"\n",
    "AA\n",
    "BC\n",
    "\"\"\"\n",
    "fig, axes=plt.subplot_mosaic(mosaic=figure_mosaic, figsize=(8,8))\n",
    "# Plot the calibration dataset of different models\n",
    "axes['A'].plot(Cali_Dataset_Putirka['SiO2_Liq'], Cali_Dataset_Putirka['Na2O_Liq']+Cali_Dataset_Putirka['K2O_Liq'],\n",
    "         's', mec='grey', mfc='grey', ms=2, label='P08')\n",
    "axes['A'].plot(Cali_Dataset_Brugman['SiO2_Liq'], Cali_Dataset_Brugman['Na2O_Liq']+Cali_Dataset_Brugman['K2O_Liq'],\n",
    "         'sk', mfc='cyan', label='B19')\n",
    "axes['A'].plot(Cali_Dataset_Wang['SiO2_Liq'], Cali_Dataset_Wang['Na2O_Liq']+Cali_Dataset_Wang['K2O_Liq'],\n",
    "         'oy', mfc='yellow', ms=3, label='W21')\n",
    "axes['A'].plot(Cali_Dataset_Neave['SiO2_Liq'], Cali_Dataset_Neave['Na2O_Liq']+Cali_Dataset_Neave['K2O_Liq'],\n",
    "         'dk', mfc='red', label='N17')\n",
    "axes['A'].plot(Cali_Dataset_Masotta['SiO2_Liq'], Cali_Dataset_Masotta['Na2O_Liq']+Cali_Dataset_Masotta['K2O_Liq'],\n",
    "          'pb', mfc='None', ms=4, mew=1, label='M13')\n",
    "axes['A'].set_xlim([35, 80])\n",
    "axes['A'].set_xlabel('SiO$_2$ (wt%)')\n",
    "axes['A'].set_ylabel('Na$_2$O + K$_2$O (wt%)')\n",
    "axes['A'].legend()\n",
    "\n",
    "###\n",
    "axes['B'].plot(Cali_Dataset_Putirka['Mgno_Cpx'], Cali_Dataset_Putirka['Al2O3_Cpx'],\n",
    "         's', mec='grey', mfc='grey', ms=2)\n",
    "axes['B'].plot(Cali_Dataset_Brugman['Mgno_Cpx'], Cali_Dataset_Brugman['Al2O3_Cpx'],\n",
    "         'sk', mfc='cyan')\n",
    "axes['B'].plot(Cali_Dataset_Wang['Mgno_Cpx'], Cali_Dataset_Wang['Al2O3_Cpx'],\n",
    "         'oy', mfc='yellow', ms=3)\n",
    "axes['B'].plot(Cali_Dataset_Neave['Mgno_Cpx'], Cali_Dataset_Neave['Al2O3_Cpx'],\n",
    "         'dk', mfc='red')\n",
    "axes['B'].plot(Cali_Dataset_Masotta['Mgno_Cpx'], Cali_Dataset_Masotta['Al2O3_Cpx'],\n",
    "         'pb', mfc='None', ms=4, mew=1)\n",
    "#axes['B'].set_xlim([35, 80])\n",
    "axes['B'].set_xlabel('Mg# Cpx')\n",
    "axes['B'].set_ylabel('Al$_2$O$_3$ Cpx (wt%)')\n",
    "\n",
    "\n",
    "\n",
    "axes['C'].plot(Cali_Dataset_Putirka['T_K']-273.15, Cali_Dataset_Putirka['P_kbar'],\n",
    "         's', mec='grey', mfc='grey', ms=2)\n",
    "axes['C'].plot(Cali_Dataset_Brugman['T_K']-273.15, Cali_Dataset_Brugman['P_kbar'],\n",
    "         'sk', mfc='cyan')\n",
    "axes['C'].plot(Cali_Dataset_Wang['T_K']-273.15, Cali_Dataset_Wang['P_kbar'],\n",
    "         'oy', mfc='yellow', ms=3)\n",
    "axes['C'].plot(Cali_Dataset_Neave['T_K']-273.15, Cali_Dataset_Neave['P_kbar'],\n",
    "         'dk', mfc='red')\n",
    "axes['C'].plot(Cali_Dataset_Masotta['T_K']-273.15, Cali_Dataset_Masotta['P_kbar'],\n",
    "         'pb', mfc='None', ms=4, mew=1)\n",
    "\n",
    "axes['C'].set_ylim([-1, 20.5])\n",
    "axes['C'].set_xlim([600, 1500])\n",
    "axes['C'].set_xlabel('T (°C)')\n",
    "\n",
    "axes['C'].set_ylabel('P (kbar)')\n",
    "\n",
    "\n",
    "# This is the plot that actually does the TAS lines\n",
    "tasplot.add_LeMaitre_fields(axes['A'])\n",
    "for t in axes['A'].texts[:]:\n",
    "    t.remove()\n",
    "    #ax1.remove_artist(t)\n",
    "\n",
    "fig.tight_layout()\n",
    "fig.savefig('Cali_Dataset_Cpx.png', dpi=200)"
   ]
  },
  {
   "cell_type": "code",
   "execution_count": null,
   "metadata": {},
   "outputs": [],
   "source": []
  }
 ],
 "metadata": {
  "kernelspec": {
   "display_name": "Python 3 (ipykernel)",
   "language": "python",
   "name": "python3"
  },
  "language_info": {
   "codemirror_mode": {
    "name": "ipython",
    "version": 3
   },
   "file_extension": ".py",
   "mimetype": "text/x-python",
   "name": "python",
   "nbconvert_exporter": "python",
   "pygments_lexer": "ipython3",
   "version": "3.11.5"
  }
 },
 "nbformat": 4,
 "nbformat_minor": 4
}
